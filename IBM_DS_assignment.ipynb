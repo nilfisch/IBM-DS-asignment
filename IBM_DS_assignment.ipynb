#### Add your code below following the instructions given in the course

# Data Science Tools and Ecosystem

In this notebook, Data Science Tools and Ecosystem are summarized.

**Objectives:**
 - The capabilities of R and its uses in Data Science.
 - The RStudio interface for running R codes. 
 - Popular R packages for Data Science.
 - Popular data visualization packages in R.
 - Plotting with the inbuilt R plot function.
 - Plotting with ggplot.

Some of the popular languages that Data Scientists use are:
 1. Python
 2. Julia
 3. Scala

Some of the commonly used libraries used by Data Scientists include:
 1. numpy
 2. pandas
 3. Scikit-learn
 4. TensorFlow

 |Data Science Tools |
 |---|
 |JupyterLab |
 |RStudio |
 |JupyterNotebook |

### Below are a few examples of evaluating arithmetic expressions in Python
eval("2 +4")

eval("sum([2,3,7])")

eval("5 * 4")

# This a simple arithmetic expression to mutiply then add integers
(3*4)+5

# This will convert 200 minutes to hours by diving by 60

min = 200
hours = min / 60
print(hours)

## Author
Peter Becker
